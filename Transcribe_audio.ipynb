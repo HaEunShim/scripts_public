{
  "nbformat": 4,
  "nbformat_minor": 0,
  "metadata": {
    "colab": {
      "provenance": [],
      "mount_file_id": "1kZOxuipfe2iH_OyUBu40OmFnTBH3YOsp",
      "authorship_tag": "ABX9TyMdz9w0+s0oKs9uF648fttQ",
      "include_colab_link": true
    },
    "kernelspec": {
      "name": "python3",
      "display_name": "Python 3"
    },
    "language_info": {
      "name": "python"
    }
  },
  "cells": [
    {
      "cell_type": "markdown",
      "metadata": {
        "id": "view-in-github",
        "colab_type": "text"
      },
      "source": [
        "<a href=\"https://colab.research.google.com/github/HaEunShim/scripts_public/blob/main/Transcribe_audio.ipynb\" target=\"_parent\"><img src=\"https://colab.research.google.com/assets/colab-badge.svg\" alt=\"Open In Colab\"/></a>"
      ]
    },
    {
      "cell_type": "code",
      "execution_count": null,
      "metadata": {
        "collapsed": true,
        "id": "lzEp2UuGGORh"
      },
      "outputs": [],
      "source": [
        "!pip install git+https://github.com/openai/whisper.git\n",
        "!apt-get install -y ffmpeg\n"
      ]
    },
    {
      "cell_type": "code",
      "source": [
        "# upload your .wav files\n",
        "\n",
        "from google.colab import files\n",
        "\n",
        "uploaded = files.upload()\n"
      ],
      "metadata": {
        "collapsed": true,
        "id": "M3nSGLisGTSL"
      },
      "execution_count": null,
      "outputs": []
    },
    {
      "cell_type": "markdown",
      "source": [
        "### Whisper Model Size Guide\n",
        "\n",
        "| Model    | Size    | Speed   | Accuracy       |\n",
        "| -------- | ------- | ------- | -------------- |\n",
        "| `tiny`   | ~39 MB  | Fastest | Least accurate |\n",
        "| `base`   | ~74 MB  | Fast    | Good           |\n",
        "| `small`  | ~244 MB | Slower  | Better         |\n",
        "| `medium` | ~769 MB | Slower  | Very good      |\n",
        "| `large`  | ~1.5 GB | Slowest | Best accuracy  |\n"
      ],
      "metadata": {
        "id": "U-B9VwWIIi7f"
      }
    },
    {
      "cell_type": "code",
      "source": [
        "import whisper\n",
        "import os\n",
        "\n",
        "# Load Whisper model\n",
        "model = whisper.load_model(\"base\")  # You can change to \"small\", \"medium\", or \"large\"\n",
        "\n",
        "for filename in uploaded.keys():\n",
        "    print(f\"\\n🔄 Transcribing: {filename}\")\n",
        "\n",
        "    # Transcribe using Whisper\n",
        "    result = model.transcribe(filename)\n",
        "\n",
        "    # Save transcription to .txt file\n",
        "    base_name = os.path.splitext(filename)[0]\n",
        "    txt_filename = f\"{base_name}.txt\"\n",
        "    with open(txt_filename, \"w\") as f:\n",
        "        f.write(result['text'])\n",
        "\n",
        "    print(f\"✅ Saved transcription to {txt_filename}\")\n"
      ],
      "metadata": {
        "collapsed": true,
        "id": "knVX9M-zG7JM"
      },
      "execution_count": null,
      "outputs": []
    },
    {
      "cell_type": "code",
      "source": [
        "# download transcriptions\n",
        "# limitation 10 files\n",
        "'''\n",
        "from google.colab import files\n",
        "import glob\n",
        "\n",
        "for txt_file in glob.glob(\"*.txt\"):\n",
        "    files.download(txt_file)\n",
        "'''"
      ],
      "metadata": {
        "id": "7zh53tCBHYsF"
      },
      "execution_count": null,
      "outputs": []
    },
    {
      "cell_type": "code",
      "source": [
        "import glob\n",
        "\n",
        "print(\"TXT files to be zipped:\")\n",
        "for txt_file in glob.glob(\"*.txt\"):\n",
        "    print(txt_file)\n"
      ],
      "metadata": {
        "id": "DfnbRdNvYr3h"
      },
      "execution_count": null,
      "outputs": []
    },
    {
      "cell_type": "code",
      "source": [
        "import shutil\n",
        "\n",
        "# This creates transcriptions.zip containing all .txt files in the current directory\n",
        "shutil.make_archive(\"transcriptions\", 'zip', '.', '*.txt')\n"
      ],
      "metadata": {
        "id": "ifBBU4oGYu1O"
      },
      "execution_count": null,
      "outputs": []
    },
    {
      "cell_type": "code",
      "source": [
        "from google.colab import files\n",
        "\n",
        "files.download(\"transcriptions.zip\")\n"
      ],
      "metadata": {
        "id": "BMSAGHSiY2-w"
      },
      "execution_count": null,
      "outputs": []
    },
    {
      "cell_type": "code",
      "source": [
        "# delete the saved ones\n",
        "\n",
        "for filepath in glob.glob('/content/*.txt'):\n",
        "    os.remove(filepath)\n",
        "    print(f\"Deleted {filepath}\")\n"
      ],
      "metadata": {
        "id": "sXa5sExTaYKJ"
      },
      "execution_count": null,
      "outputs": []
    }
  ]
}